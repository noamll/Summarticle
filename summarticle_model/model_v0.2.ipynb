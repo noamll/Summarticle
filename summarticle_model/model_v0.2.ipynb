{
 "cells": [
  {
   "cell_type": "code",
   "execution_count": 1,
   "metadata": {},
   "outputs": [],
   "source": [
    "from pypdf import PdfReader\n",
    "from pypdf.errors import PdfReadError\n",
    "from transformers import pipeline\n",
    "import torch\n",
    "import sentencepiece"
   ]
  },
  {
   "cell_type": "code",
   "execution_count": 3,
   "id": "b6303f79-458a-46b0-94af-820a3a4d65c1",
   "metadata": {},
   "outputs": [
    {
     "name": "stdout",
     "output_type": "stream",
     "text": [
      "This paper discusses several different types of models used to predict software development time and cost. The most commonly used model is the Putnam SLIM model, which is based on a slope-learning curve. However, the authors believe that it is not reliable at predicting very early stages of a project. They use a different approach called the \"Putnam model\" to predict future performance. In this paper, they suggest a new type of model that predicts future performance much more accurately than the previous Putnam model. This new model can be implemented in a variety of ways, including: correlating statistics from real-time experiments with machine learning, using statistical methods such as rinterpreter and correlation analysis, modeling by direct observation, and using advanced statistical techniques such as weighted average. The authors also discuss several different approaches for predicting future performance of a particular kind of product or function. For example, if a company were to introduce a new piece of machinery, it would need to be able to produce it quickly and at a high level over a long period of time.\n"
     ]
    }
   ],
   "source": [
    "ArticleToSummarize = \"pdf_database\\pdf1.pdf\"\n",
    "\n",
    "def pdfTE(pdfFile): # Function for text extraction from PDF.\n",
    "    with open(pdfFile, \"rb\") as file: # Read in binary to handle breakline statements better (\\n)\n",
    "        pdfReader = PdfReader(file)\n",
    "        for page in pdfReader.pages:\n",
    "            yield page.extract_text() # Use of generator as keeping the whole article in the memory results in memory error.\n",
    "            \n",
    "def articleC(pdfFile): # Function to return the article in one string\n",
    "    textCombiner = pdfTE(pdfFile) \n",
    "    textCombined = \"\"\n",
    "    for text in textCombiner: # Loop over generator object to sum text of pages into one string\n",
    "        textCombined += text\n",
    "    return textCombined\n",
    "\n",
    "def sumArticle1(pdfFile): # Function to summarize article per page\n",
    "    if pdfFile.endswith(\".pdf\"): # First check if file extension is \".pdf\" format.\n",
    "        try:\n",
    "            summarizer = pipeline(\"summarization\", model=\"pszemraj/led-large-book-summary\") # Model used from the huggingface hub (https://huggingface.co/pszemraj/led-large-book-summary)\n",
    "            for text in pdfTE(pdfFile): # Iterate over generator\n",
    "                summarizedPage = summarizer(text,max_length=100, min_length=50, do_sample=True)\n",
    "                print(summarizedPage, end=\"\\n\")\n",
    "                print()\n",
    "        except PdfReadError: # Second check if file extension is \".pdf\" format when first check fails.\n",
    "            return 0\n",
    "        except OSError: # Exception handling of OS errors, as PdfReadError doesn't catch all file extension errors.\n",
    "            return 0\n",
    "    else:\n",
    "        return 0\n",
    "\n",
    "def sumArticle2(pdfFile): # Function to summarize article as a whole\n",
    "    if pdfFile.endswith(\".pdf\"): # First check if file extension is \".pdf\" format.\n",
    "        try:\n",
    "            summarizer = pipeline(\"summarization\", model=\"pszemraj/led-large-book-summary\") # Model used from the huggingface hub (https://huggingface.co/pszemraj/led-large-book-summary)\n",
    "            articleCombined = articleC(pdfFile) # Iterate over generator\n",
    "            summarizedPage = summarizer(articleCombined,max_length=1000, min_length=200, do_sample=True)\n",
    "            return summarizedPage[0][\"summary_text\"]\n",
    "        except PdfReadError: # Second check if file extension is \".pdf\" format when first check fails.\n",
    "            return 0\n",
    "        except OSError: # Exception handling of OS errors, as PdfReadError doesn't catch all file extension errors.\n",
    "            return 0\n",
    "    else:\n",
    "        return 0\n",
    "\n",
    "pdfText = articleC(\"pdf_database\\pdf1.pdf\")\n",
    "\n",
    "text = sumArticle2(ArticleToSummarize)\n",
    "print(text)\n",
    "\n",
    "# =============================================================================\n",
    "# These tests were done with function: sumArticle1\n",
    "#\n",
    "# Test 1 results (max length=300, min length=100):\n",
    "#     - Program took 20 minutes to produce the article page for page\n",
    "#     - Summaries were accurate with important and clear information\n",
    "#     - Spelling errors? yes\n",
    "# \n",
    "# Test 2 results (max length=10, min length = 3):\n",
    "#     - Program took 2 minutes to produce the article page for page\n",
    "#     - Summaries were totally not accurate, more like broken sentences\n",
    "#     - Spelling errors? yes\n",
    "# \n",
    "# Test 3 results (max length=50, min length = 30):\n",
    "#     - Program took 4 minutes to produce the article page for page\n",
    "#     - Summaries seemed somewhat accurate, sentences started the same as with test 2? weird.. is model not random?\n",
    "#     - Spelling errors? yes\n",
    "# \n",
    "# Test 4 results (max length=100, min length=50):\n",
    "#     - Program took 5 minutes to produce the article page for page\n",
    "#     - Summaries seemed accurate despite sentences being cut off\n",
    "#     - Spelling errors? little\n",
    "#\n",
    "# These tests were done with function sumArticle2\n",
    "#\n",
    "# Test 1 results (max length=300, min length=100):\n",
    "#     - Program took 2 minutes to produce the article\n",
    "#     - Summary explains content of the pdf briefly, mentioning some techniques\n",
    "#       used in the article, but not much in depth information.\n",
    "#     - Seemed written as a whole, no sentences cut off.\n",
    "#\n",
    "# Test 2 results (max length=300, min length=100):\n",
    "#     - Program took 2,5 minutes to produce the article\n",
    "#     - Summary explains content of the pdf well, goes indepth quite a bit.\n",
    "#     - Some sentences were cut off.\n",
    "#     - Running the model with same parameters resulted in 2 different summaries.\n",
    "# =============================================================================\n",
    "\n",
    "# [{'summary_text': 'This paper discusses several different algorithmic models to predict software development time and other management parameters. The most commonly used is the Putnam model, but it is not reliable in all cases. In this paper, the authors propose a new model that predicts much more accurately than the putnam model. The authors examine several different statistical methods to predict real-time performance of this model. They also discuss several different types of prediction such as the \"routine\" or \"learning curve,\" which are used to predict future performance of a particular task. They conclude that this model can be useful for predicting future performance on a broad range of industrial applications as well as specific ones.'}]"
   ]
  },
  {
   "cell_type": "code",
   "execution_count": 4,
   "metadata": {},
   "outputs": [
    {
     "name": "stdout",
     "output_type": "stream",
     "text": [
      "Het meest gebruikte model is het Putnam SLIM model, dat gebaseerd is op een hellings-learning curve. Echter, de auteurs geloven dat het niet betrouwbaar is in het voorspellen van zeer vroege stadia van een project. Ze gebruiken een andere aanpak genaamd het \"Putnam model\" om toekomstige prestaties te voorspellen. In dit document suggereren ze een nieuw type model dat toekomstige prestaties veel nauwkeuriger voorspelt dan het vorige Putnam model. Dit nieuwe model kan worden toegepast op verschillende manieren, waaronder: het correleren van statistieken van real-time experimenten met machine learning, gebruik makend van statistische methoden zoals rinterpreter en correlatieanalyse, modelleren door middel van directe observatie, en gebruik makend van geavanceerde statistische technieken zoals gewogen gemiddelde. De auteurs bespreken ook verschillende benaderingen voor het voorspellen van toekomstige prestaties van een bepaald soort product of functie. Bijvoorbeeld, als een bedrijf een nieuw stuk machines zou moeten kunnen introduceren, zou het snel en op een hoog niveau van tijd moeten produceren.\n"
     ]
    }
   ],
   "source": [
    "translation = pipeline(\"translation\", model=\"Helsinki-NLP/opus-mt-en-nl\")\n",
    "translated_text = translation(text)[0]['translation_text']\n",
    "print(translated_text)"
   ]
  },
  {
   "cell_type": "code",
   "execution_count": null,
   "metadata": {},
   "outputs": [],
   "source": [
    "import evaluate\n",
    "\n",
    "metric = evaluate.load(\"sacrebleu\") # Model generated translation evaluated with DeepL generated translation\n",
    "\n",
    "evaluation_text = \"In dit artikel worden verschillende soorten modellen besproken die worden gebruikt om de ontwikkelingstijd en -kosten van software te voorspellen. Het meest gebruikte model is het Putnam SLIM model, dat gebaseerd is op een hellings-leercurve. De auteurs zijn echter van mening dat dit model niet betrouwbaar is bij het voorspellen van zeer vroege stadia van een project. Ze gebruiken een andere benadering, het 'Putnam-model', om toekomstige prestaties te voorspellen. In dit artikel stellen ze een nieuw type model voor dat toekomstige prestaties veel nauwkeuriger voorspelt dan het vorige Putnam-model. Dit nieuwe model kan op verschillende manieren worden geïmplementeerd, waaronder: het correleren van statistieken van real-time experimenten met machine learning, het gebruik van statistische methoden zoals rinterpreter en correlatieanalyse, modellering door directe observatie en het gebruik van geavanceerde statistische technieken zoals gewogen gemiddelden. De auteurs bespreken ook verschillende benaderingen voor het voorspellen van toekomstige prestaties van een bepaald soort product of functie. Als een bedrijf bijvoorbeeld een nieuw stuk machine zou introduceren, zou het in staat moeten zijn om het snel en op een hoog niveau te produceren over een lange periode.\"\n",
    "\n",
    "translated_text = \"Het meest gebruikte model is het Putnam SLIM model, dat gebaseerd is op een hellings-learning curve. Echter, de auteurs geloven dat het niet betrouwbaar is in het voorspellen van zeer vroege stadia van een project. Ze gebruiken een andere aanpak genaamd het 'Putnam model' om toekomstige prestaties te voorspellen. In dit document suggereren ze een nieuw type model dat toekomstige prestaties veel nauwkeuriger voorspelt dan het vorige Putnam model. Dit nieuwe model kan worden toegepast op verschillende manieren, waaronder: het correleren van statistieken van real-time experimenten met machine learning, gebruik makend van statistische methoden zoals rinterpreter en correlatieanalyse, modelleren door middel van directe observatie, en gebruik makend van geavanceerde statistische technieken zoals gewogen gemiddelde. De auteurs bespreken ook verschillende benaderingen voor het voorspellen van toekomstige prestaties van een bepaald soort product of functie. Bijvoorbeeld, als een bedrijf een nieuw stuk machines zou moeten kunnen introduceren, zou het snel en op een hoog niveau van tijd moeten produceren.\"\n",
    "\n",
    "predictions = [\n",
    "    translated_text\n",
    "]\n",
    "references = [\n",
    "    [\n",
    "        evaluation_text\n",
    "    ]\n",
    "]\n",
    "metric.compute(predictions=predictions, references=references)\n",
    "\n",
    "### ==============================\n",
    "#{'score': 53.86425158362457,\n",
    "#'counts': [149, 112, 95, 80],\n",
    "#'totals': [173, 172, 171, 170],\n",
    "#'precisions': [86.1271676300578,\n",
    "# 65.11627906976744,\n",
    "# 55.55555555555556,\n",
    "# 47.05882352941177],\n",
    "#'bp': 0.8704644809074915,\n",
    "#'sys_len': 173,\n",
    "#'ref_len': 197}\n",
    "### ==============================="
   ]
  }
 ],
 "metadata": {
  "kernelspec": {
   "display_name": "Python 3 (ipykernel)",
   "language": "python",
   "name": "python3"
  },
  "language_info": {
   "codemirror_mode": {
    "name": "ipython",
    "version": 3
   },
   "file_extension": ".py",
   "mimetype": "text/x-python",
   "name": "python",
   "nbconvert_exporter": "python",
   "pygments_lexer": "ipython3",
   "version": "3.9.13"
  }
 },
 "nbformat": 4,
 "nbformat_minor": 5
}
