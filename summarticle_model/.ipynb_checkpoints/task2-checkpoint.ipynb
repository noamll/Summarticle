{
 "cells": [
  {
   "cell_type": "code",
   "execution_count": 1,
   "id": "827adf18-fdcd-400c-a48c-e965d780ca01",
   "metadata": {},
   "outputs": [],
   "source": [
    "#!pip install pypdf\n",
    "#!pip install transformers\n",
    "\n",
    "from pypdf import PdfReader\n",
    "from transformers import pipeline\n",
    "import torch"
   ]
  },
  {
   "cell_type": "code",
   "execution_count": 21,
   "id": "9fc62dc4-0abe-47fc-96c9-368b0dcfd7ef",
   "metadata": {
    "tags": []
   },
   "outputs": [
    {
     "name": "stdout",
     "output_type": "stream",
     "text": [
      "2\n",
      "3\n",
      "4\n",
      "5\n",
      "6\n",
      "7\n",
      "8\n",
      "9\n",
      "10\n",
      "11\n",
      "12\n"
     ]
    }
   ],
   "source": [
    "def article(article):\n",
    "    reader = PdfReader(article)\n",
    "    number_of_pages = len(reader.pages)\n",
    "    empty = \"\"\n",
    "\n",
    "    for i in range(number_of_pages):\n",
    "        try:\n",
    "            page = reader.pages[i]\n",
    "            text = page.extract_text()\n",
    "            #print(text)\n",
    "            empty = empty.join(text)\n",
    "        except:\n",
    "            print(i)\n",
    "            continue\n",
    "    # return empty\n",
    "\n",
    "text = article(\"pdf_database\\pdf1.pdf\")\n",
    "\n",
    "# summarizer = pipeline(\"summarization\", model=\"facebook/bart-large-cnn\")\n",
    "\n",
    "# print(summarizer(article(\"pdf_database\\pdf1.pdf\"), max_length=300, min_length=30, do_sample=False))"
   ]
  },
  {
   "cell_type": "code",
   "execution_count": 22,
   "id": "5d35822c-c180-4a2e-a3d1-5641f6a824c9",
   "metadata": {},
   "outputs": [
    {
     "ename": "NameError",
     "evalue": "name 'empty' is not defined",
     "output_type": "error",
     "traceback": [
      "\u001b[1;31m---------------------------------------------------------------------------\u001b[0m",
      "\u001b[1;31mNameError\u001b[0m                                 Traceback (most recent call last)",
      "\u001b[1;32m~\\AppData\\Local\\Temp\\ipykernel_112\\2741974409.py\u001b[0m in \u001b[0;36m<module>\u001b[1;34m\u001b[0m\n\u001b[1;32m----> 1\u001b[1;33m \u001b[0mlen\u001b[0m\u001b[1;33m(\u001b[0m\u001b[0mempty\u001b[0m\u001b[1;33m)\u001b[0m\u001b[1;33m\u001b[0m\u001b[1;33m\u001b[0m\u001b[0m\n\u001b[0m",
      "\u001b[1;31mNameError\u001b[0m: name 'empty' is not defined"
     ]
    }
   ],
   "source": [
    "len(empty)"
   ]
  },
  {
   "cell_type": "code",
   "execution_count": null,
   "id": "feea733a-b4f7-480c-b664-75cba2f38f21",
   "metadata": {},
   "outputs": [],
   "source": []
  }
 ],
 "metadata": {
  "kernelspec": {
   "display_name": "Python 3 (ipykernel)",
   "language": "python",
   "name": "python3"
  },
  "language_info": {
   "codemirror_mode": {
    "name": "ipython",
    "version": 3
   },
   "file_extension": ".py",
   "mimetype": "text/x-python",
   "name": "python",
   "nbconvert_exporter": "python",
   "pygments_lexer": "ipython3",
   "version": "3.9.13"
  }
 },
 "nbformat": 4,
 "nbformat_minor": 5
}
